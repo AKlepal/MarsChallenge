{
 "cells": [
  {
   "cell_type": "code",
   "execution_count": null,
   "metadata": {},
   "outputs": [],
   "source": [
    "# Import relevant libraries\n",
    "from splinter import Browser\n",
    "from bs4 import BeautifulSoup\n",
    "from webdriver_manager.chrome import ChromeDriverManager\n",
    "import matplotlib.pyplot as plt\n",
    "import pandas as pd"
   ]
  },
  {
   "attachments": {},
   "cell_type": "markdown",
   "metadata": {},
   "source": [
    "Step 1: Visit the Website\n",
    "Use automated browsing to visit the Mars Temperature Data Site. Inspect the page to identify which elements to scrape. Note that the URL is https://data-class-mars-challenge.s3.amazonaws.com/Mars/index.html.\n",
    "\n",
    "Hint To identify which elements to scrape, you might want to inspect the page by using Chrome DevTools to discover whether the table contains usable classes."
   ]
  },
  {
   "cell_type": "code",
   "execution_count": null,
   "metadata": {},
   "outputs": [],
   "source": [
    "# Visit the website\n",
    "executable_path = {'executable_path': ChromeDriverManager().install()}\n",
    "browser = Browser('chrome', **executable_path, headless=False)"
   ]
  },
  {
   "cell_type": "code",
   "execution_count": null,
   "metadata": {},
   "outputs": [],
   "source": [
    "url = \"https://data-class-mars-challenge.s3.amazonaws.com/Mars/index.html\""
   ]
  },
  {
   "attachments": {},
   "cell_type": "markdown",
   "metadata": {},
   "source": [
    "Step 2: Scrape the Table\n",
    "Create a Beautiful Soup object and use it to scrape the data in the HTML table.\n",
    "\n",
    "Note that this can also be achieved by using the Pandas read_html function. However, use Beautiful Soup here to continue sharpening your web scraping skills."
   ]
  },
  {
   "cell_type": "code",
   "execution_count": null,
   "metadata": {},
   "outputs": [],
   "source": [
    "# Create a Beautiful Soup Object\n",
    "soup = BeautifulSoup(browser.html, 'html.parser')"
   ]
  },
  {
   "cell_type": "code",
   "execution_count": null,
   "metadata": {},
   "outputs": [],
   "source": [
    "# Extract all rows of data\n",
    "results = soup.find_all('table', class_= 'table')"
   ]
  },
  {
   "attachments": {},
   "cell_type": "markdown",
   "metadata": {},
   "source": [
    "Step 3: Store the Data\n",
    "Assemble the scraped data into a Pandas DataFrame. The columns should have the same headings as the table on the website. Here’s an explanation of the column headings:\n",
    "\n",
    "id: the identification number of a single transmission from the Curiosity rover\n",
    "terrestrial_date: the date on Earth\n",
    "sol: the number of elapsed sols (Martian days) since Curiosity landed on Mars\n",
    "ls: the solar longitude\n",
    "month: the Martian month\n",
    "min_temp: the minimum temperature, in Celsius, of a single Martian day (sol)\n",
    "pressure: The atmospheric pressure at Curiosity's location"
   ]
  },
  {
   "cell_type": "code",
   "execution_count": null,
   "metadata": {},
   "outputs": [],
   "source": [
    "# Create an empty list\n",
    "collection = []\n",
    "\n",
    "# Loop through the scraped data to create a list of rows\n",
    "for i in results:\n",
    "    j = i.find_all('tr')\n",
    "    row = [item.text for item in j]\n",
    "    collection.append(row)  "
   ]
  },
  {
   "cell_type": "code",
   "execution_count": null,
   "metadata": {},
   "outputs": [],
   "source": [
    "# Create a Pandas DataFrame by using the list of rows and a list of the column names\n",
    "# Create a Pandas DataFrame by using the list of rows and a list of the column names\n",
    "tables = pd.read_html(url)\n",
    "mars_df = tables[0]"
   ]
  },
  {
   "cell_type": "code",
   "execution_count": null,
   "metadata": {},
   "outputs": [],
   "source": [
    "# Confirm DataFrame was created successfully\n",
    "mars_df"
   ]
  },
  {
   "attachments": {},
   "cell_type": "markdown",
   "metadata": {},
   "source": [
    "id\tterrestrial_date\tsol\tls\tmonth\tmin_temp\tpressure\n",
    "0\t2\t2012-08-16\t10\t155\t6\t-75.0\t739.0\n",
    "1\t13\t2012-08-17\t11\t156\t6\t-76.0\t740.0\n",
    "2\t24\t2012-08-18\t12\t156\t6\t-76.0\t741.0\n",
    "3\t35\t2012-08-19\t13\t157\t6\t-74.0\t732.0\n",
    "4\t46\t2012-08-20\t14\t157\t6\t-74.0\t740.0\n",
    "...\t...\t...\t...\t...\t...\t...\t...\n",
    "1862\t1889\t2018-02-23\t1973\t133\t5\t-78.0\t730.0\n",
    "1863\t1892\t2018-02-24\t1974\t134\t5\t-77.0\t729.0\n",
    "1864\t1894\t2018-02-25\t1975\t134\t5\t-76.0\t729.0\n",
    "1865\t1893\t2018-02-26\t1976\t135\t5\t-77.0\t728.0\n",
    "1866\t1895\t2018-02-27\t1977\t135\t5\t-77.0\t727.0\n",
    "1867 rows × 7 columns"
   ]
  },
  {
   "attachments": {},
   "cell_type": "markdown",
   "metadata": {},
   "source": [
    "Step 4: Prepare Data for Analysis\n",
    "Examine the data types that are currently associated with each column. If necessary, cast (or convert) the data to the appropriate datetime, int, or float data types.\n",
    "\n",
    "Hint You can use the Pandas astype and to_datetime methods to accomplish this task."
   ]
  },
  {
   "cell_type": "code",
   "execution_count": null,
   "metadata": {},
   "outputs": [],
   "source": [
    "# Examine data type of each column\n",
    "mars_df.dtypes"
   ]
  },
  {
   "attachments": {},
   "cell_type": "markdown",
   "metadata": {},
   "source": [
    "id                    int64\n",
    "terrestrial_date     object\n",
    "sol                   int64\n",
    "ls                    int64\n",
    "month                 int64\n",
    "min_temp            float64\n",
    "pressure            float64\n",
    "dtype: object"
   ]
  },
  {
   "cell_type": "code",
   "execution_count": null,
   "metadata": {},
   "outputs": [],
   "source": [
    "# Change data types for data analysis\n",
    "mars_df['terrestrial_date'] = pd.to_datetime(mars_df['terrestrial_date'])\n",
    "mars_df['id'] = mars_df['id'].astype(object)"
   ]
  },
  {
   "cell_type": "code",
   "execution_count": null,
   "metadata": {},
   "outputs": [],
   "source": [
    "# Confirm type changes were successful by examining data types again\n",
    "mars_df.dtypes"
   ]
  },
  {
   "attachments": {},
   "cell_type": "markdown",
   "metadata": {},
   "source": [
    "id                          object\n",
    "terrestrial_date    datetime64[ns]\n",
    "sol                          int64\n",
    "ls                           int64\n",
    "month                        int64\n",
    "min_temp                   float64\n",
    "pressure                   float64\n",
    "dtype: object"
   ]
  },
  {
   "attachments": {},
   "cell_type": "markdown",
   "metadata": {},
   "source": [
    "Step 5: Analyze the Data\n",
    "Analyze your dataset by using Pandas functions to answer the following questions:\n",
    "\n",
    "How many months exist on Mars?\n",
    "How many Martian (and not Earth) days worth of data exist in the scraped dataset?\n",
    "What are the coldest and the warmest months on Mars (at the location of Curiosity)? To answer this question:\n",
    "Find the average the minimum daily temperature for all of the months.\n",
    "Plot the results as a bar chart.\n",
    "Which months have the lowest and the highest atmospheric pressure on Mars? To answer this question:\n",
    "Find the average the daily atmospheric pressure of all the months.\n",
    "Plot the results as a bar chart.\n",
    "About how many terrestrial (Earth) days exist in a Martian year? To answer this question:\n",
    "Consider how many days elapse on Earth in the time that Mars circles the Sun once.\n",
    "Visually estimate the result by plotting the daily minimum temperature."
   ]
  },
  {
   "cell_type": "code",
   "execution_count": null,
   "metadata": {},
   "outputs": [],
   "source": [
    "#1. How many months are there on Mars?\n",
    "mars_df.groupby(['month']).nunique()[\"terrestrial_date\"].count"
   ]
  },
  {
   "attachments": {},
   "cell_type": "markdown",
   "metadata": {},
   "source": [
    "<bound method Series.count of month\n",
    "1     174\n",
    "2     178\n",
    "3     192\n",
    "4     194\n",
    "5     149\n",
    "6     147\n",
    "7     142\n",
    "8     141\n",
    "9     134\n",
    "10    112\n",
    "11    138\n",
    "12    166\n",
    "Name: terrestrial_date, dtype: int64>"
   ]
  },
  {
   "cell_type": "code",
   "execution_count": null,
   "metadata": {},
   "outputs": [],
   "source": [
    "#2. How many Martian days' worth of data are there?\n",
    "mars_df['terrestrial_date'].count()"
   ]
  },
  {
   "attachments": {},
   "cell_type": "markdown",
   "metadata": {},
   "source": [
    "1867"
   ]
  },
  {
   "cell_type": "code",
   "execution_count": null,
   "metadata": {},
   "outputs": [],
   "source": [
    "# 3. What is the average low temperature by month?\n",
    "avg_temp =mars_df.groupby(['month']).mean()['min_temp']\n",
    "avg_temp"
   ]
  },
  {
   "attachments": {},
   "cell_type": "markdown",
   "metadata": {},
   "source": [
    "month\n",
    "1    -77.160920\n",
    "2    -79.932584\n",
    "3    -83.307292\n",
    "4    -82.747423\n",
    "5    -79.308725\n",
    "6    -75.299320\n",
    "7    -72.281690\n",
    "8    -68.382979\n",
    "9    -69.171642\n",
    "10   -71.982143\n",
    "11   -71.985507\n",
    "12   -74.451807\n",
    "Name: min_temp, dtype: float64"
   ]
  },
  {
   "cell_type": "code",
   "execution_count": null,
   "metadata": {},
   "outputs": [],
   "source": [
    "# Plot the average temperature by month\n",
    "avg_temp.plot.bar()\n",
    "plt.xlabel('month')\n",
    "plt.ylabel('temperature (C)')"
   ]
  },
  {
   "cell_type": "code",
   "execution_count": null,
   "metadata": {},
   "outputs": [],
   "source": [
    "# Identify the coldest and hottest months in Curiosity's location\n",
    "order_temp = avg_temp.sort_values()\n",
    "order_temp.plot.bar()\n",
    "plt.xlabel('month')\n",
    "plt.ylabel('temperature (C)')"
   ]
  },
  {
   "cell_type": "code",
   "execution_count": null,
   "metadata": {},
   "outputs": [],
   "source": [
    "# 4. Average pressure by Martian month\n",
    "avg_pressure =mars_df.groupby(['month']).mean()['pressure']\n",
    "avg_pressure"
   ]
  },
  {
   "attachments": {},
   "cell_type": "markdown",
   "metadata": {},
   "source": [
    "month\n",
    "1     862.488506\n",
    "2     889.455056\n",
    "3     877.322917\n",
    "4     806.329897\n",
    "5     748.557047\n",
    "6     745.054422\n",
    "7     795.105634\n",
    "8     873.829787\n",
    "9     913.305970\n",
    "10    887.312500\n",
    "11    857.014493\n",
    "12    842.156627"
   ]
  },
  {
   "cell_type": "code",
   "execution_count": null,
   "metadata": {},
   "outputs": [],
   "source": [
    "# Plot the average pressure by month\n",
    "ascend_avg_pressure = avg_pressure.sort_values()\n",
    "ascend_avg_pressure.plot.bar()\n",
    "plt.xlabel('month')\n",
    "plt.ylabel('pressure')"
   ]
  },
  {
   "cell_type": "code",
   "execution_count": null,
   "metadata": {},
   "outputs": [],
   "source": [
    "# 5. How many terrestrial (earth) days are there in a Martian year?\n",
    "martian_days = \"687\"\n",
    "martian_days"
   ]
  },
  {
   "attachments": {},
   "cell_type": "markdown",
   "metadata": {},
   "source": [
    "'687'"
   ]
  },
  {
   "cell_type": "code",
   "execution_count": null,
   "metadata": {},
   "outputs": [],
   "source": [
    "mars_df['min_temp'].plot(\n",
    "    kind='line', \n",
    "    xlabel='Number of Terrestrial Days', \n",
    "    ylabel='Minimum Temperature')\n",
    "plt.show()"
   ]
  },
  {
   "attachments": {},
   "cell_type": "markdown",
   "metadata": {},
   "source": [
    "Findings and conclusions:\n",
    "\n",
    "The third month has the coldest temperature on th eplanet Mars, while the eighth month is considered the warmest. However it is considered to be very cold when looking at the planet Earth. \n",
    "\n",
    "The atmospheric pressure on average seemes to be the lowest in the sixth month and at its highest in the ninth.\n",
    "\n",
    "The distance from peak to peak is roughly 1425-750, or 675 days, a year on Mars appears to be about 675 days. When doing a quick search on the Internet, we can conclude that a Mars year is equivalent to 687 Earth days."
   ]
  },
  {
   "attachments": {},
   "cell_type": "markdown",
   "metadata": {},
   "source": [
    "Step 6: Save the Data\n",
    "Export the DataFrame to a CSV file."
   ]
  },
  {
   "cell_type": "code",
   "execution_count": null,
   "metadata": {},
   "outputs": [],
   "source": [
    "# Write the data to a CSV\n",
    "mars_df.to_csv(\"mars_weather_data.csv\")"
   ]
  },
  {
   "cell_type": "code",
   "execution_count": null,
   "metadata": {},
   "outputs": [],
   "source": [
    "browser.quit()"
   ]
  }
 ],
 "metadata": {
  "kernelspec": {
   "display_name": "Python 3",
   "language": "python",
   "name": "python3"
  },
  "language_info": {
   "codemirror_mode": {
    "name": "ipython",
    "version": 3
   },
   "file_extension": ".py",
   "mimetype": "text/x-python",
   "name": "python",
   "nbconvert_exporter": "python",
   "pygments_lexer": "ipython3",
   "version": "3.7.0 (v3.7.0:1bf9cc5093, Jun 27 2018, 04:06:47) [MSC v.1914 32 bit (Intel)]"
  },
  "orig_nbformat": 4,
  "vscode": {
   "interpreter": {
    "hash": "8e511521329b140af7e6676783c3cc0389c71e3dac8fb02f046592fa68405aef"
   }
  }
 },
 "nbformat": 4,
 "nbformat_minor": 2
}
