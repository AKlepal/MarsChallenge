{
 "cells": [
  {
   "cell_type": "code",
   "execution_count": null,
   "metadata": {},
   "outputs": [],
   "source": [
    "# Import Splinter and BeautifulSoup\n",
    "from splinter import Browser\n",
    "from bs4 import BeautifulSoup\n",
    "from webdriver_manager.chrome import ChromeDriverManager\n",
    "import pandas as pd"
   ]
  },
  {
   "cell_type": "code",
   "execution_count": null,
   "metadata": {},
   "outputs": [],
   "source": [
    "executable_path = {'executable_path': ChromeDriverManager().install()}\n",
    "browser = Browser('chrome', **executable_path, headless=False)"
   ]
  },
  {
   "attachments": {},
   "cell_type": "markdown",
   "metadata": {},
   "source": [
    "Step 1: Visit the Website\n",
    "Use automated browsing to visit the Mars NASA news site. Inspect the page to identify which elements to scrape.\n",
    "\n",
    "Hint To identify which elements to scrape, you might want to inspect the page by using Chrome DevTools."
   ]
  },
  {
   "cell_type": "code",
   "execution_count": null,
   "metadata": {},
   "outputs": [],
   "source": [
    "# Visit the Mars NASA news site: https://redplanetscience.com\n",
    "url = 'https://redplanetscience.com'\n",
    "browser.visit(url)"
   ]
  },
  {
   "attachments": {},
   "cell_type": "markdown",
   "metadata": {},
   "source": [
    "Step 2: Scrape the Website\n",
    "Create a Beautiful Soup object and use it to extract text elements from the website.\n",
    "\n",
    "# Create a Beautiful Soup object"
   ]
  },
  {
   "cell_type": "code",
   "execution_count": null,
   "metadata": {},
   "outputs": [],
   "source": [
    "soup = BeautifulSoup(browser.html, 'html.parser')"
   ]
  },
  {
   "attachments": {},
   "cell_type": "markdown",
   "metadata": {},
   "source": [
    "[<div class=\"list_text\">\n",
    "<div class=\"list_date\">December 19, 2022</div>\n",
    "<div class=\"content_title\">Mars InSight Lander to Push on Top of the 'Mole'</div>\n",
    "<div class=\"article_teaser_body\">Engineers have a plan for pushing down on the heat probe, which has been stuck at the Martian surface for a year.</div>\n",
    "</div>, <div class=\"list_text\">\n",
    "<div class=\"list_date\">December 18, 2022</div>\n",
    "<div class=\"content_title\">Robotic Toolkit Added to NASA's Mars 2020 Rover</div>\n",
    "<div class=\"article_teaser_body\">The bit carousel, which lies at the heart of the rover's Sample Caching System, is now aboard NASA's newest rover. </div>\n",
    "</div>, <div class=\"list_text\">\n",
    "<div class=\"list_date\">December 16, 2022</div>\n",
    "<div class=\"content_title\">MOXIE Could Help Future Rockets Launch Off Mars</div>\n",
    "<div class=\"article_teaser_body\">NASA's Perseverance rover carries a device to convert Martian air into oxygen that, if produced on a larger scale, could be used not just for breathing, but also for fuel.</div>\n",
    "</div>, <div class=\"list_text\">\n",
    "<div class=\"list_date\">December 15, 2022</div>\n",
    "<div class=\"content_title\">Mars Scientists Investigate Ancient Life in Australia</div>\n",
    "<div class=\"article_teaser_body\">Teams with NASA's Mars 2020 and ESA's ExoMars practiced hunting for fossilized microbial life in the Australian Outback in preparation for their Red Planet missions. </div>\n",
    "</div>, <div class=\"list_text\">\n",
    "<div class=\"list_date\">December 15, 2022</div>\n",
    "<div class=\"content_title\">AI Is Helping Scientists Discover Fresh Craters on Mars</div>\n",
    "<div class=\"article_teaser_body\">It's the first time machine learning has been used to find previously unknown craters on the Red Planet.</div>\n",
    "</div>, <div class=\"list_text\">\n",
    "<div class=\"list_date\">December 11, 2022</div>\n",
    "<div class=\"content_title\">8 Martian Postcards to Celebrate Curiosity's Landing Anniversary</div>\n",
    "<div class=\"article_teaser_body\">The NASA rover touched down eight years ago, on Aug. 5, 2012, and will soon be joined by a second rover, Perseverance.</div>\n",
    "</div>, <div class=\"list_text\">\n",
    "<div class=\"list_date\">December 10, 2022</div>\n",
    "<div class=\"content_title\">While Stargazing on Mars, NASA's Curiosity Rover Spots Earth and Venus</div>\n",
    "<div class=\"article_teaser_body\">This new portrait of the Red Planet's neighbors was taken during a time when there's more dust in the air on Mars.</div>\n",
    "</div>, <div class=\"list_text\">\n",
    "<div class=\"list_date\">December 6, 2022</div>\n",
    "<div class=\"content_title\">NASA's Mars Rover Drivers Need Your Help</div>\n",
    "<div class=\"article_teaser_body\">Using an online tool to label Martian terrain types, you can train an artificial intelligence algorithm that could improve the way engineers guide the Curiosity rover.</div>\n",
    "</div>, <div class=\"list_text\">\n",
    "<div class=\"list_date\">December 5, 2022</div>\n",
    "<div class=\"content_title\">NASA Readies Perseverance Mars Rover's Earthly Twin </div>\n",
    "<div class=\"article_teaser_body\">Did you know NASA's next Mars rover has a nearly identical sibling on Earth for testing? Even better, it's about to roll for the first time through a replica Martian landscape.</div>\n",
    "</div>, <div class=\"list_text\">\n",
    "<div class=\"list_date\">December 2, 2022</div>\n",
    "<div class=\"content_title\">Sensors on Mars 2020 Spacecraft Answer Long-Distance Call From Earth</div>\n",
    "<div class=\"article_teaser_body\">Instruments tailored to collect data during the descent of NASA's next rover through the Red Planet's atmosphere have been checked in flight.</div>\n",
    "</div>, <div class=\"list_text\">\n",
    "<div class=\"list_date\">November 29, 2022</div>\n",
    "<div class=\"content_title\">NASA Invites Students to Name Mars 2020 Rover</div>\n",
    "<div class=\"article_teaser_body\">Through Nov. 1, K-12 students in the U.S. are encouraged to enter an essay contest to name NASA's next Mars rover.</div>\n",
    "</div>, <div class=\"list_text\">\n",
    "<div class=\"list_date\">November 24, 2022</div>\n",
    "<div class=\"content_title\">The Detective Aboard NASA's Perseverance Rover</div>\n",
    "<div class=\"article_teaser_body\">An instrument called SHERLOC will, with the help of its partner WATSON, hunt for signs of ancient life by detecting organic molecules and minerals.</div>\n",
    "</div>, <div class=\"list_text\">\n",
    "<div class=\"list_date\">November 22, 2022</div>\n",
    "<div class=\"content_title\">NASA's Mars 2020 Rover Goes Coast-to-Coast to Prep for Launch</div>\n",
    "<div class=\"article_teaser_body\">The agency's first step in returning rocks from Mars just arrived at Kennedy Space Center. The Mars 2020 team now begins readying for a launch to the Red Planet this July.</div>\n",
    "</div>, <div class=\"list_text\">\n",
    "<div class=\"list_date\">November 20, 2022</div>\n",
    "<div class=\"content_title\">NASA's Mars Perseverance Rover Passes Flight Readiness Review</div>\n",
    "<div class=\"article_teaser_body\">​The agency's Mars 2020 mission has one more big prelaunch review – the Launch Readiness Review, on July 27.</div>\n",
    "</div>, <div class=\"list_text\">\n",
    "<div class=\"list_date\">November 19, 2022</div>\n",
    "<div class=\"content_title\">Mars Helicopter Attached to NASA's Perseverance Rover</div>\n",
    "<div class=\"article_teaser_body\">The team also fueled the rover's sky crane to get ready for this summer's history-making launch.</div>\n",
    "</div>]"
   ]
  },
  {
   "attachments": {},
   "cell_type": "markdown",
   "metadata": {},
   "source": [
    "Step 3: Store the Results\n",
    "Extract the titles and preview text of the news articles that you scraped. Store the scraping results in Python data structures as follows:\n",
    "\n",
    "Store each title-and-preview pair in a Python dictionary. And, give each dictionary two keys: title and preview. An example is the following:\n",
    "\n",
    "{'title': \"Mars Rover Begins Mission!\", \n",
    "      'preview': \"NASA's Mars Rover begins a multiyear mission to collect data about the little-explored planet.\"}\n",
    "Store all the dictionaries in a Python list.\n",
    "\n",
    "Print the list in your notebook."
   ]
  },
  {
   "cell_type": "code",
   "execution_count": null,
   "metadata": {},
   "outputs": [],
   "source": [
    "# Create an empty list to store the dictionaries\n",
    "empty_list = []"
   ]
  },
  {
   "cell_type": "code",
   "execution_count": null,
   "metadata": {},
   "outputs": [],
   "source": [
    "# Loop through the text elements\n",
    "# Extract the title and preview text from the elements\n",
    "# Store each title and preview pair in a dictionary\n",
    "# Add the dictionary to the list\n",
    "for element in elements:\n",
    "    title=element.find('div',class_ = 'content_title')\n",
    "    preview=element.find('div',class_ = 'article_teaser_body')\n",
    "    element_list = {}\n",
    "    element_list[\"title\"] = title\n",
    "    element_list[\"preview\"] = preview\n",
    "    empty_list.append(element_list)"
   ]
  },
  {
   "attachments": {},
   "cell_type": "markdown",
   "metadata": {},
   "source": [
    "[{'title': <div class=\"content_title\">Mars InSight Lander to Push on Top of the 'Mole'</div>, 'preview': <div class=\"article_teaser_body\">Engineers have a plan for pushing down on the heat probe, which has been stuck at the Martian surface for a year.</div>}, {'title': <div class=\"content_title\">Robotic Toolkit Added to NASA's Mars 2020 Rover</div>, 'preview': <div class=\"article_teaser_body\">The bit carousel, which lies at the heart of the rover's Sample Caching System, is now aboard NASA's newest rover. </div>}, {'title': <div class=\"content_title\">MOXIE Could Help Future Rockets Launch Off Mars</div>, 'preview': <div class=\"article_teaser_body\">NASA's Perseverance rover carries a device to convert Martian air into oxygen that, if produced on a larger scale, could be used not just for breathing, but also for fuel.</div>}, {'title': <div class=\"content_title\">Mars Scientists Investigate Ancient Life in Australia</div>, 'preview': <div class=\"article_teaser_body\">Teams with NASA's Mars 2020 and ESA's ExoMars practiced hunting for fossilized microbial life in the Australian Outback in preparation for their Red Planet missions. </div>}, {'title': <div class=\"content_title\">AI Is Helping Scientists Discover Fresh Craters on Mars</div>, 'preview': <div class=\"article_teaser_body\">It's the first time machine learning has been used to find previously unknown craters on the Red Planet.</div>}, {'title': <div class=\"content_title\">8 Martian Postcards to Celebrate Curiosity's Landing Anniversary</div>, 'preview': <div class=\"article_teaser_body\">The NASA rover touched down eight years ago, on Aug. 5, 2012, and will soon be joined by a second rover, Perseverance.</div>}, {'title': <div class=\"content_title\">While Stargazing on Mars, NASA's Curiosity Rover Spots Earth and Venus</div>, 'preview': <div class=\"article_teaser_body\">This new portrait of the Red Planet's neighbors was taken during a time when there's more dust in the air on Mars.</div>}, {'title': <div class=\"content_title\">NASA's Mars Rover Drivers Need Your Help</div>, 'preview': <div class=\"article_teaser_body\">Using an online tool to label Martian terrain types, you can train an artificial intelligence algorithm that could improve the way engineers guide the Curiosity rover.</div>}, {'title': <div class=\"content_title\">NASA Readies Perseverance Mars Rover's Earthly Twin </div>, 'preview': <div class=\"article_teaser_body\">Did you know NASA's next Mars rover has a nearly identical sibling on Earth for testing? Even better, it's about to roll for the first time through a replica Martian landscape.</div>}, {'title': <div class=\"content_title\">Sensors on Mars 2020 Spacecraft Answer Long-Distance Call From Earth</div>, 'preview': <div class=\"article_teaser_body\">Instruments tailored to collect data during the descent of NASA's next rover through the Red Planet's atmosphere have been checked in flight.</div>}, {'title': <div class=\"content_title\">NASA Invites Students to Name Mars 2020 Rover</div>, 'preview': <div class=\"article_teaser_body\">Through Nov. 1, K-12 students in the U.S. are encouraged to enter an essay contest to name NASA's next Mars rover.</div>}, {'title': <div class=\"content_title\">The Detective Aboard NASA's Perseverance Rover</div>, 'preview': <div class=\"article_teaser_body\">An instrument called SHERLOC will, with the help of its partner WATSON, hunt for signs of ancient life by detecting organic molecules and minerals.</div>}, {'title': <div class=\"content_title\">NASA's Mars 2020 Rover Goes Coast-to-Coast to Prep for Launch</div>, 'preview': <div class=\"article_teaser_body\">The agency's first step in returning rocks from Mars just arrived at Kennedy Space Center. The Mars 2020 team now begins readying for a launch to the Red Planet this July.</div>}, {'title': <div class=\"content_title\">NASA's Mars Perseverance Rover Passes Flight Readiness Review</div>, 'preview': <div class=\"article_teaser_body\">​The agency's Mars 2020 mission has one more big prelaunch review – the Launch Readiness Review, on July 27.</div>}, {'title': <div class=\"content_title\">Mars Helicopter Attached to NASA's Perseverance Rover</div>, 'preview': <div class=\"article_teaser_body\">The team also fueled the rover's sky crane to get ready for this summer's history-making launch.</div>}]"
   ]
  },
  {
   "cell_type": "code",
   "execution_count": null,
   "metadata": {},
   "outputs": [],
   "source": [
    "browser.quit()"
   ]
  },
  {
   "cell_type": "markdown",
   "metadata": {},
   "source": []
  }
 ],
 "metadata": {
  "kernelspec": {
   "display_name": "Python 3",
   "language": "python",
   "name": "python3"
  },
  "language_info": {
   "codemirror_mode": {
    "name": "ipython",
    "version": 3
   },
   "file_extension": ".py",
   "mimetype": "text/x-python",
   "name": "python",
   "nbconvert_exporter": "python",
   "pygments_lexer": "ipython3",
   "version": "3.7.0 (v3.7.0:1bf9cc5093, Jun 27 2018, 04:06:47) [MSC v.1914 32 bit (Intel)]"
  },
  "orig_nbformat": 4,
  "vscode": {
   "interpreter": {
    "hash": "8e511521329b140af7e6676783c3cc0389c71e3dac8fb02f046592fa68405aef"
   }
  }
 },
 "nbformat": 4,
 "nbformat_minor": 2
}
